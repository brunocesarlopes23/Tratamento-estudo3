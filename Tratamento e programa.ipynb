{
 "cells": [
  {
   "cell_type": "code",
   "execution_count": null,
   "id": "0c666289-3428-4fc7-9371-ffe2a64ed754",
   "metadata": {},
   "outputs": [],
   "source": [
    "'''\n",
    "Atividade:\n",
    "1.Arquivo dados\n",
    "1.CODIGO\n",
    "2.MUNICÍPIO\n",
    "3.PIB\n",
    "4.VALOREMPENHO\n",
    "2.Empenho em diárias em municípios gaúchos e PIB do município\n",
    "3. Execute um processo de de Análise exploratória de dados para conhecimento e entendimento dos dados\n",
    "'''\n"
   ]
  },
  {
   "cell_type": "code",
   "execution_count": 129,
   "id": "b904eb70-1253-47dd-89a7-beda8243fe17",
   "metadata": {},
   "outputs": [],
   "source": [
    "#importando as bibliotecas\n",
    "import pandas as pd\n",
    "import statistics as sts\n",
    "import seaborn as sbn\n",
    "import matplotlib.pyplot as plt\n",
    "import numpy as np"
   ]
  },
  {
   "cell_type": "code",
   "execution_count": 130,
   "id": "0d10939e-9cd3-4dd3-b269-8603d55ff896",
   "metadata": {},
   "outputs": [
    {
     "name": "stdout",
     "output_type": "stream",
     "text": [
      "     CODIGO                MUNICIPIO       PIB  VALOREMPENHO\n",
      "0       106    SANTANA DO LIVRAMENTO  12240.76    1088666.10\n",
      "1       106    SANTANA DO LIVRAMENTO  12240.76    1088666.10\n",
      "2       113             SANTO ANGELO  16575.82     800669.92\n",
      "3       118   SAO FRANCISCO DE ASSIS  12037.61     466122.80\n",
      "4        13          CACAPAVA DO SUL  13674.54     485535.86\n",
      "..      ...                      ...       ...           ...\n",
      "184     372  SANTA VITORIA DO PALMAR  27170.89        760.00\n",
      "185     107     SANTA BARBARA DO SUL  29654.02        365.00\n",
      "186      54           GETULIO VARGAS  16876.33        233.01\n",
      "187     382          NOVA SANTA RITA  25938.38        310.58\n",
      "188      60      GUARANI DAS MISSOES  24363.31        172.13\n",
      "\n",
      "[189 rows x 4 columns]\n",
      "189\n"
     ]
    }
   ],
   "source": [
    "#carregando o dataframe\n",
    "base=pd.read_csv('dados.csv', sep=';' )\n",
    "print(base)\n",
    "l=base.count(0)[0]\n",
    "print(l)"
   ]
  },
  {
   "cell_type": "code",
   "execution_count": 132,
   "id": "d6aca4c4-75f8-4f5b-b121-07a3f0a3d4ec",
   "metadata": {},
   "outputs": [
    {
     "name": "stdout",
     "output_type": "stream",
     "text": [
      "SANTANA DO LIVRAMENTO\n",
      "SANTANA DO LIVRAMENTO\n",
      "CACAPAVA DO SUL\n",
      "CACAPAVA DO SUL\n",
      "CERRO BRANCO\n",
      "MONTE ALEGRE DOS CAMPOS\n",
      "CERRO BRANCO\n",
      "MONTE ALEGRE DOS CAMPOS\n",
      "DOUTOR MAURICIO CARDOSO\n",
      "TAQUARA\n",
      "DOUTOR MAURICIO CARDOSO\n",
      "TAQUARA\n",
      "MULITERNO\n",
      "SANTO ANTONIO DAS MISSOES\n",
      "MULITERNO\n",
      "SANTO ANTONIO DAS MISSOES\n",
      "NOVA BOA VISTA\n",
      "SANTO ANTONIO DO PLANALTO\n",
      "NOVA BOA VISTA\n",
      "SANTO ANTONIO DO PLANALTO\n",
      "MATO LEITAO\n",
      "SANTA VITORIA DO PALMAR\n",
      "MATO LEITAO\n",
      "SANTA VITORIA DO PALMAR\n",
      "[1, 5, 23, 24, 59, 60, 96, 97, 143, 144, 183, 184]\n",
      "     CODIGO                MUNICIPIO       PIB  VALOREMPENHO\n",
      "0       106    SANTANA DO LIVRAMENTO  12240.76    1088666.10\n",
      "1       106    SANTANA DO LIVRAMENTO  12240.76    1088666.10\n",
      "2       113             SANTO ANGELO  16575.82     800669.92\n",
      "3       118   SAO FRANCISCO DE ASSIS  12037.61     466122.80\n",
      "4        13          CACAPAVA DO SUL  13674.54     485535.86\n",
      "..      ...                      ...       ...           ...\n",
      "184     372  SANTA VITORIA DO PALMAR  27170.89        760.00\n",
      "185     107     SANTA BARBARA DO SUL  29654.02        365.00\n",
      "186      54           GETULIO VARGAS  16876.33        233.01\n",
      "187     382          NOVA SANTA RITA  25938.38        310.58\n",
      "188      60      GUARANI DAS MISSOES  24363.31        172.13\n",
      "\n",
      "[189 rows x 4 columns]\n",
      "     CODIGO                MUNICIPIO       PIB  VALOREMPENHO\n",
      "0       106    SANTANA DO LIVRAMENTO  12240.76    1088666.10\n",
      "2       113             SANTO ANGELO  16575.82     800669.92\n",
      "3       118   SAO FRANCISCO DE ASSIS  12037.61     466122.80\n",
      "4        13          CACAPAVA DO SUL  13674.54     485535.86\n",
      "6       120              SAO GABRIEL  19912.38     533719.86\n",
      "..      ...                      ...       ...           ...\n",
      "182     372  SANTA VITORIA DO PALMAR  17213.98        760.00\n",
      "185     107     SANTA BARBARA DO SUL  29654.02        365.00\n",
      "186      54           GETULIO VARGAS  16876.33        233.01\n",
      "187     382          NOVA SANTA RITA  25938.38        310.58\n",
      "188      60      GUARANI DAS MISSOES  24363.31        172.13\n",
      "\n",
      "[177 rows x 4 columns]\n"
     ]
    }
   ],
   "source": [
    "#vamos verificar se possem dados inexistentes, duplicados, ou valores que não podem existir\n",
    "#primeiro duplicados\n",
    "#preciso comparar cada linha de Muninípio com todas as linhas de Município.\n",
    "#primeiro criamos uma variável n que irá variar a cada ciclo de uma segunda variável m \n",
    "#e uma variável l como limite para numero de linhas\n",
    "\n",
    "b={} #criamos o objeto dicionário\n",
    "n=-1 #criamos a variável\n",
    "while n<l-1:\n",
    "    \n",
    "    n+=1\n",
    "    m=list(range(0,l))\n",
    "    a=pd.DataFrame(base['MUNICIPIO'].loc[m]==base['MUNICIPIO'].loc[n])\n",
    "    agrupado=a.groupby(['MUNICIPIO']).size()\n",
    "    agrupado[1]\n",
    "#se o agrupado for maior que 1, significa que tem valores repetidos. entao escreva este valor.\n",
    "    if agrupado[1]>=2:\n",
    "        print(base['MUNICIPIO'].loc[n])   #poderia imprimir os repetidos\n",
    "        #vamos criar um dicionário em ordem a partir de n\n",
    "       \n",
    "        b[base['MUNICIPIO'].loc[n]]=n\n",
    "        \n",
    "    else:\n",
    "        continue\n",
    "#print(b)  \n",
    "#vamos excluir informações repetidas\n",
    "#vamos excluir as linhas cujo valores estão no dicionário b\n",
    "c=b.values() #separando os valores do dicionario\n",
    "d=list(c) #transformando em lista\n",
    "print(d)\n",
    "print(base)\n",
    "base.drop(d, inplace=True)\n",
    "print(base)\n",
    "\n",
    "    "
   ]
  },
  {
   "cell_type": "code",
   "execution_count": 133,
   "id": "4ec6e71f-f053-4eec-a66d-26ce3f8b8f41",
   "metadata": {},
   "outputs": [
    {
     "data": {
      "text/plain": [
       "CODIGO          0\n",
       "MUNICIPIO       0\n",
       "PIB             0\n",
       "VALOREMPENHO    0\n",
       "dtype: int64"
      ]
     },
     "execution_count": 133,
     "metadata": {},
     "output_type": "execute_result"
    }
   ],
   "source": [
    "#Verificamos que não há dados nulos\n",
    "base.isnull().sum()"
   ]
  },
  {
   "cell_type": "code",
   "execution_count": 134,
   "id": "5acddc77-3cac-4706-937c-c557e23e8b99",
   "metadata": {},
   "outputs": [
    {
     "name": "stdout",
     "output_type": "stream",
     "text": [
      "PIB\n",
      "False    0\n",
      "Name: PIB, dtype: int64\n",
      "VALOREMPENHO\n",
      "False    0\n",
      "Name: VALOREMPENHO, dtype: int64\n"
     ]
    }
   ],
   "source": [
    "#Dados fora do dominio\n",
    "#precisamos verificar se as colunas PIB e VALOREMPENHO possuem dados negativos\n",
    "vpib=base['PIB']<0\n",
    "agrupadopib=vpib.groupby(vpib).sum()\n",
    "print(agrupadopib)\n",
    "verifvalorempenho=base['VALOREMPENHO']<0\n",
    "agrupadove=verifvalorempenho.groupby(verifvalorempenho).sum()\n",
    "print(agrupadove)"
   ]
  },
  {
   "cell_type": "code",
   "execution_count": 136,
   "id": "b6cfc52f-7fe9-4219-a5ef-ac17ebca7609",
   "metadata": {},
   "outputs": [
    {
     "name": "stdin",
     "output_type": "stream",
     "text": [
      "Escreva o município com letras maíuscula e sem assento SANTO ANGELO\n"
     ]
    },
    {
     "name": "stdout",
     "output_type": "stream",
     "text": [
      "CODIGO                   113\n",
      "MUNICIPIO       SANTO ANGELO\n",
      "PIB                 16575.82\n",
      "VALOREMPENHO       800669.92\n",
      "Name: 2, dtype: object\n"
     ]
    },
    {
     "data": {
      "image/png": "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\n",
      "text/plain": [
       "<Figure size 432x288 with 1 Axes>"
      ]
     },
     "metadata": {
      "needs_background": "light"
     },
     "output_type": "display_data"
    }
   ],
   "source": [
    "#fizemos o tratamento agora vamos gerar dados para a análise\n",
    "i=input('Escreva o município com letras maíuscula e sem assento') #cidade pesquisada\n",
    "a2=pd.DataFrame(i==base['MUNICIPIO']) #criamos um data com os True and False da comparação\n",
    "agrupado2=a2.groupby(['MUNICIPIO']).size() #agrupamos e mensuramos os true and false\n",
    "ag2=np.array(agrupado2) #lista\n",
    "ag3=[0,1]#arranjo para sempre existir a linha [1] da lista e depois conseguir pular para else e não dar erro\n",
    "ag3=ag2+ag3\n",
    "\n",
    "if ag3[1]==2:\n",
    "    #queremos os dados referente ao município\n",
    "    #então precisamos achar a linha que o mesmo se encontra\n",
    "    #Vamos criar chave valor para atrelar o nome da cidade ao número da linha\n",
    "    chave=base['MUNICIPIO'].to_dict() #cria chave valor, ou seja, indexando o municipio com o n° da coluna\n",
    "    inv_chave={v: k for k, v in chave.items()} #inverte chave valor do dicionário\n",
    "    index=int(inv_chave[i])\n",
    "    print(base.loc[index])\n",
    "    grafico=pd.DataFrame(base.loc[index])\n",
    "    grafico[2:4].transpose().plot.bar( color=['blue','gray'])\n",
    "    \n",
    "else:\n",
    "    print('Cidade não encontrada')\n",
    "\n",
    "    \n",
    "\n"
   ]
  },
